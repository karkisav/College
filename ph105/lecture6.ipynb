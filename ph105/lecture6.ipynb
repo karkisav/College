{
 "cells": [
  {
   "cell_type": "code",
   "execution_count": 3,
   "metadata": {},
   "outputs": [],
   "source": [
    "import matplotlib"
   ]
  },
  {
   "cell_type": "code",
   "execution_count": 4,
   "metadata": {},
   "outputs": [
    {
     "name": "stdout",
     "output_type": "stream",
     "text": [
      "3 its a prime\n"
     ]
    }
   ],
   "source": [
    "number = 3\n",
    "test_number = 2\n",
    "while test_number < number:\n",
    "    if number % test_number == 0:\n",
    "        print(number,\"is not prime\")\n",
    "        break\n",
    "    else:\n",
    "        test_number += 1\n",
    "else:\n",
    "    print(number, \"its a prime\")"
   ]
  }
 ],
 "metadata": {
  "kernelspec": {
   "display_name": "Python 3",
   "language": "python",
   "name": "python3"
  },
  "language_info": {
   "codemirror_mode": {
    "name": "ipython",
    "version": 3
   },
   "file_extension": ".py",
   "mimetype": "text/x-python",
   "name": "python",
   "nbconvert_exporter": "python",
   "pygments_lexer": "ipython3",
   "version": "3.11.6"
  }
 },
 "nbformat": 4,
 "nbformat_minor": 2
}
