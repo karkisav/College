{
 "cells": [
  {
   "cell_type": "code",
   "execution_count": 38,
   "metadata": {},
   "outputs": [
    {
     "name": "stdout",
     "output_type": "stream",
     "text": [
      "The fiactorial of 8 is: 40320\n"
     ]
    }
   ],
   "source": [
    "import sys\n",
    "num = int(input(\"What number's factorial do you want to find: \"))\n",
    "def factorialf(x):\n",
    "    f = 1\n",
    "    for i in range(2, x + 1):\n",
    "            f = f*i\n",
    "    return f\n",
    "print(\"The fiactorial of\", num, \"is:\",factorialf(num))"
   ]
  }
 ],
 "metadata": {
  "kernelspec": {
   "display_name": "base",
   "language": "python",
   "name": "python3"
  },
  "language_info": {
   "codemirror_mode": {
    "name": "ipython",
    "version": 3
   },
   "file_extension": ".py",
   "mimetype": "text/x-python",
   "name": "python",
   "nbconvert_exporter": "python",
   "pygments_lexer": "ipython3",
   "version": "3.11.6"
  }
 },
 "nbformat": 4,
 "nbformat_minor": 2
}
