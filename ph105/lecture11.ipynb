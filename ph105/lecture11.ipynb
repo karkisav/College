{
 "cells": [
  {
   "cell_type": "code",
   "execution_count": 1,
   "metadata": {},
   "outputs": [
    {
     "ename": "NameError",
     "evalue": "name 'numpy' is not defined",
     "output_type": "error",
     "traceback": [
      "\u001b[0;31m---------------------------------------------------------------------------\u001b[0m",
      "\u001b[0;31mNameError\u001b[0m                                 Traceback (most recent call last)",
      "Cell \u001b[0;32mIn[1], line 81\u001b[0m\n\u001b[1;32m     78\u001b[0m        \u001b[38;5;28;01mreturn\u001b[39;00m \u001b[38;5;28mself\u001b[39m\u001b[38;5;241m.\u001b[39mgetYm(time)\n\u001b[1;32m     80\u001b[0m planet \u001b[38;5;241m=\u001b[39m OOPPlanet(\u001b[38;5;241m4.0\u001b[39m, \u001b[38;5;241m2.0\u001b[39m)                         \u001b[38;5;66;03m# initializes planet\u001b[39;00m\n\u001b[0;32m---> 81\u001b[0m \u001b[43mplanet\u001b[49m\u001b[38;5;241;43m.\u001b[39;49m\u001b[43mposition\u001b[49m\u001b[43m(\u001b[49m\u001b[43m)\u001b[49m\n\u001b[1;32m     83\u001b[0m moon \u001b[38;5;241m=\u001b[39m OOPMoon(\u001b[38;5;241m4.0\u001b[39m, \u001b[38;5;241m2.0\u001b[39m, \u001b[38;5;241m1.0\u001b[39m, \u001b[38;5;241m14.0\u001b[39m)                  \u001b[38;5;66;03m# init planet & moon\u001b[39;00m\n\u001b[1;32m     84\u001b[0m moon\u001b[38;5;241m.\u001b[39mposition()                              \u001b[38;5;66;03m# overrrides moon position\u001b[39;00m\n",
      "Cell \u001b[0;32mIn[1], line 35\u001b[0m, in \u001b[0;36mOOPPlanet.position\u001b[0;34m(self)\u001b[0m\n\u001b[1;32m     34\u001b[0m     \u001b[38;5;28;01mdef\u001b[39;00m \u001b[38;5;21mposition\u001b[39m(\u001b[38;5;28mself\u001b[39m):                                 \u001b[38;5;66;03m# for plane orbit\u001b[39;00m\n\u001b[0;32m---> 35\u001b[0m         xo \u001b[38;5;241m=\u001b[39m \u001b[38;5;28;43mself\u001b[39;49m\u001b[38;5;241;43m.\u001b[39;49m\u001b[43mgetX\u001b[49m\u001b[43m(\u001b[49m\u001b[38;5;241;43m0.\u001b[39;49m\u001b[43m)\u001b[49m\n\u001b[1;32m     36\u001b[0m         yo \u001b[38;5;241m=\u001b[39m \u001b[38;5;28mself\u001b[39m\u001b[38;5;241m.\u001b[39mgetY(\u001b[38;5;241m0.\u001b[39m)\n\u001b[1;32m     37\u001b[0m \u001b[38;5;66;03m#        figure()\u001b[39;00m\n",
      "Cell \u001b[0;32mIn[1], line 29\u001b[0m, in \u001b[0;36mOOPPlanet.getX\u001b[0;34m(self, time)\u001b[0m\n\u001b[1;32m     28\u001b[0m \u001b[38;5;28;01mdef\u001b[39;00m \u001b[38;5;21mgetX\u001b[39m(\u001b[38;5;28mself\u001b[39m, time):\n\u001b[0;32m---> 29\u001b[0m    \u001b[38;5;28;01mreturn\u001b[39;00m \u001b[38;5;28;43mself\u001b[39;49m\u001b[38;5;241;43m.\u001b[39;49m\u001b[43mgetXp\u001b[49m\u001b[43m(\u001b[49m\u001b[43mtime\u001b[49m\u001b[43m)\u001b[49m\n",
      "Cell \u001b[0;32mIn[1], line 23\u001b[0m, in \u001b[0;36mOOPPlanet.getXp\u001b[0;34m(self, time)\u001b[0m\n\u001b[1;32m     22\u001b[0m \u001b[38;5;28;01mdef\u001b[39;00m \u001b[38;5;21mgetXp\u001b[39m(\u001b[38;5;28mself\u001b[39m, time):\n\u001b[0;32m---> 23\u001b[0m    \u001b[38;5;28;01mreturn\u001b[39;00m \u001b[38;5;28mself\u001b[39m\u001b[38;5;241m.\u001b[39mRadius\u001b[38;5;241m*\u001b[39m\u001b[43mnumpy\u001b[49m\u001b[38;5;241m.\u001b[39mcos(\u001b[38;5;28mself\u001b[39m\u001b[38;5;241m.\u001b[39mwplanet\u001b[38;5;241m*\u001b[39mtime)\n",
      "\u001b[0;31mNameError\u001b[0m: name 'numpy' is not defined"
     ]
    }
   ],
   "source": [
    "\"\"\" From \"A SURVEY OF COMPUTATIONAL PHYSICS\", Python eBook Version\n",
    "   by RH Landau, MJ Paez, and CC Bordeianu\n",
    "   Copyright Princeton University Press, Princeton, 2012; Book  Copyright R Landau, \n",
    "   Oregon State Unv, MJ Paez, Univ Antioquia, C Bordeianu, Univ Bucharest, 2012.\n",
    "   Support by National Science Foundation , Oregon State Univ, Microsoft Corp\"\"\"\n",
    "\n",
    "# OOPPlanet.py: Planet orbiting Sun, or moon orbiting planet\n",
    "#from matplotlib import pylab\n",
    "from pylab import *\n",
    "#from matplotlib import *\n",
    "#from math import *\n",
    "from time import sleep\n",
    "from numpy import *\n",
    "#ion() \n",
    "class OOPPlanet:\n",
    "    def __init__(self, Rad, pomg):             # Planet class constructor\n",
    "        self.Radius = Rad                                 # Planet Radius\n",
    "        self.wplanet = pomg                     # Planet angular velocity\n",
    "        self.color = 'r'\n",
    "        self.dt = 0.04\n",
    "        \n",
    "    def getXp(self, time):\n",
    "       return self.Radius*numpy.cos(self.wplanet*time)\n",
    "    \n",
    "    def getYp(self, time):\n",
    "       return self.Radius*numpy.sin(self.wplanet*time)\n",
    "#\n",
    "    def getX(self, time):\n",
    "       return self.getXp(time)\n",
    "    \n",
    "    def getY(self, time):\n",
    "       return self.getYp(time)\n",
    "#    figure()\n",
    "    def position(self):                                 # for plane orbit\n",
    "        xo = self.getX(0.)\n",
    "        yo = self.getY(0.)\n",
    "#        figure()\n",
    "        for time in numpy.arange(0.,+3.3,self.dt):            # min, max, step\n",
    "            xp = self.getX(time)\n",
    "            yp = self.getY(time)\n",
    "#            hh, = plot([xo,xp], [yo,yp],self.color)                     # plots moon position\n",
    "            plot([xo,xp], [yo,yp],self.color)\n",
    "#            sleep(0.1)\n",
    "            xo = xp\n",
    "            yo = yp\n",
    "#            x1=append(xo,xp)\n",
    "#            xo=x1\n",
    "#            hh.set_xdata(append(hh.get_xdata(),[xo,xp]))\n",
    "#            hh.set_ydata(append(hh.get_ydata(),[yo,yp]))\n",
    "#            pause(0.1)\n",
    "#            draw()\n",
    "            \n",
    "#            print (time,xp,yp)\n",
    "#            plot(xp)       \n",
    "\n",
    "class OOPMoon(OOPPlanet):             # OOPMoon is  subclass of OOPPlanet\n",
    "    \n",
    "    def __init__(self, Rad, pomg, rad, momg):   # constructor planet&Moon\n",
    "                                         \n",
    "        OOPPlanet.__init__(self, Rad, pomg)\n",
    "        self.radius = rad                                   # Moon radius\n",
    "        self.wmoon = momg                         # Moon angular velocity\n",
    "        self.color = 'b'\n",
    "        self.dt = 0.02\n",
    "        \n",
    "    def getXm(self, time):\n",
    "        xp = self.getXp(time)\n",
    "        return (xp +  self.radius*cos(self.wmoon*time))\n",
    "\n",
    "    def getYm(self, time):\n",
    "        yp = self.getYp(time)\n",
    "        return (yp +  self.radius*sin(self.wmoon*time))\n",
    "\n",
    "    def getX(self, time):\n",
    "       return self.getXm(time)\n",
    "    \n",
    "    def getY(self, time):\n",
    "       return self.getYm(time)\n",
    "\n",
    "planet = OOPPlanet(4.0, 2.0)                         # initializes planet\n",
    "planet.position()\n",
    "\n",
    "moon = OOPMoon(4.0, 2.0, 1.0, 14.0)                  # init planet & moon\n",
    "moon.position()                              # overrrides moon position"
   ]
  },
  {
   "cell_type": "code",
   "execution_count": 2,
   "metadata": {},
   "outputs": [
    {
     "data": {
      "image/png": "[encoded data removed]",
      "text/plain": [
       "<Figure size 640x480 with 1 Axes>"
      ]
     },
     "metadata": {},
     "output_type": "display_data"
    }
   ],
   "source": [
    "import numpy as np\n",
    "import matplotlib.pyplot as plt\n",
    "\n",
    "class OOPPlanet:\n",
    "    def __init__(self, Rad, pomg):\n",
    "        self.Radius = Rad\n",
    "        self.wplanet = pomg\n",
    "        self.color = 'r'\n",
    "        self.dt = 0.04\n",
    "        \n",
    "    def getXp(self, time):\n",
    "       return self.Radius * np.cos(self.wplanet * time)\n",
    "    \n",
    "    def getYp(self, time):\n",
    "       return self.Radius * np.sin(self.wplanet * time)\n",
    "    \n",
    "    def getX(self, time):\n",
    "       return self.getXp(time)\n",
    "    \n",
    "    def getY(self, time):\n",
    "       return self.getYp(time)\n",
    "\n",
    "    def position(self):\n",
    "        xo = self.getX(0.)\n",
    "        yo = self.getY(0.)\n",
    "        for time in np.arange(0., +3.3, self.dt):\n",
    "            xp = self.getX(time)\n",
    "            yp = self.getY(time)\n",
    "            plt.plot([xo, xp], [yo, yp], self.color)\n",
    "            xo = xp\n",
    "            yo = yp\n",
    "\n",
    "class OOPMoon(OOPPlanet):\n",
    "    def __init__(self, Rad, pomg, rad, momg):\n",
    "        super().__init__(Rad, pomg)\n",
    "        self.radius = rad\n",
    "        self.wmoon = momg\n",
    "        self.color = 'b'\n",
    "        self.dt = 0.02\n",
    "        \n",
    "    def getXm(self, time):\n",
    "        xp = self.getXp(time)\n",
    "        return xp + self.radius * np.cos(self.wmoon * time)\n",
    "\n",
    "    def getYm(self, time):\n",
    "        yp = self.getYp(time)\n",
    "        return yp + self.radius * np.sin(self.wmoon * time)\n",
    "\n",
    "    def getX(self, time):\n",
    "       return self.getXm(time)\n",
    "    \n",
    "    def getY(self, time):\n",
    "       return self.getYm(time)\n",
    "\n",
    "planet = OOPPlanet(4.0, 2.0)\n",
    "planet.position()\n",
    "\n",
    "moon = OOPMoon(4.0, 2.0, 1.0, 14.)\n",
    "moon.position()\n",
    "\n",
    "plt.axis('equal')\n",
    "plt.show()"
   ]
  },
  {
   "cell_type": "code",
   "execution_count": 27,
   "metadata": {},
   "outputs": [
    {
     "name": "stdout",
     "output_type": "stream",
     "text": [
      "i =  2\n",
      "i =  4\n",
      "i =  6\n",
      "i =  8\n",
      "i =  10\n",
      "i =  12\n",
      "i =  14\n",
      "i =  16\n",
      "i =  18\n",
      "i =  20\n"
     ]
    }
   ],
   "source": [
    "count = 0\n",
    "i = 2\n",
    "while count != 10:\n",
    "    print(\"i = \", i)\n",
    "    i += 2\n",
    "    count += 1"
   ]
  },
  {
   "cell_type": "code",
   "execution_count": 29,
   "metadata": {},
   "outputs": [
    {
     "name": "stdout",
     "output_type": "stream",
     "text": [
      "81\n"
     ]
    }
   ],
   "source": [
    "def parabola(x):\n",
    "    y = x**2\n",
    "    return y\n",
    "print(parabola(9))"
   ]
  },
  {
   "cell_type": "code",
   "execution_count": null,
   "metadata": {},
   "outputs": [],
   "source": []
  }
 ],
 "metadata": {
  "kernelspec": {
   "display_name": "base",
   "language": "python",
   "name": "python3"
  },
  "language_info": {
   "codemirror_mode": {
    "name": "ipython",
    "version": 3
   },
   "file_extension": ".py",
   "mimetype": "text/x-python",
   "name": "python",
   "nbconvert_exporter": "python",
   "pygments_lexer": "ipython3",
   "version": "3.11.6"
  }
 },
 "nbformat": 4,
 "nbformat_minor": 2
}
